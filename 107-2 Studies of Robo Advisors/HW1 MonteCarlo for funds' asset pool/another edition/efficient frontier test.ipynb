{
 "cells": [
  {
   "cell_type": "markdown",
   "metadata": {},
   "source": [
    "# 第一部分：匯入資料、計算"
   ]
  },
  {
   "cell_type": "code",
   "execution_count": 97,
   "metadata": {},
   "outputs": [
    {
     "name": "stdout",
     "output_type": "stream",
     "text": [
      "Enter your file path: /Users/Kang/Desktop/data.csv\n"
     ]
    }
   ],
   "source": [
    "import pandas as pd\n",
    "import numpy as np\n",
    "import matplotlib.pyplot as plt\n",
    "import scipy.optimize as solver\n",
    "import datetime as dt\n",
    "\n",
    "route = input('Enter your file path: ')\n",
    "\n",
    "try:\n",
    "    database = pd.read_csv(route)\n",
    "except UnicodeDecodeError: \n",
    "    database = pd.read_csv(route ,encoding='big5hkscs')\n",
    "\n",
    "database.set_index(\"Date\", inplace=True)\n",
    "tickers = database.columns.tolist()\n",
    "q = len(tickers)\n",
    "#加這行\n",
    "database = database[:'2017-05-12']\n",
    "\n",
    "records = []\n",
    "for i in tickers:\n",
    "    records.append(len(database[i].dropna()))\n",
    "records = min(records)"
   ]
  },
  {
   "cell_type": "code",
   "execution_count": 98,
   "metadata": {},
   "outputs": [],
   "source": [
    "returns = np.log(database / database.shift(1))"
   ]
  },
  {
   "cell_type": "code",
   "execution_count": 99,
   "metadata": {},
   "outputs": [
    {
     "name": "stdout",
     "output_type": "stream",
     "text": [
      "                AAPL        FB      GOOG      MSFT\n",
      "Date                                              \n",
      "2012-05-21  0.056626 -0.116378  0.022578  0.016266\n",
      "2012-05-22 -0.007708 -0.093255 -0.021912  0.000336\n",
      "2012-05-23  0.024107  0.031749  0.014311 -0.022083\n",
      "2012-05-24 -0.009227  0.031680 -0.009562 -0.001375\n",
      "2012-05-25 -0.005374 -0.034497 -0.020299 -0.000344\n",
      "                AAPL        FB      GOOG      MSFT\n",
      "Date                                              \n",
      "2017-05-08  0.026825  0.005443  0.007704 -0.000870\n",
      "2017-05-09  0.006384 -0.003847 -0.002282  0.001450\n",
      "2017-05-10 -0.004752 -0.001263 -0.003643  0.003903\n",
      "2017-05-11  0.008611 -0.001665  0.001958 -0.012340\n",
      "2017-05-12  0.013869  0.001931  0.001739 -0.001169\n"
     ]
    }
   ],
   "source": [
    "returns = returns.tail(records - 1)\n",
    "returns.fillna(value=0, inplace=True)\n",
    "print (returns.head())\n",
    "print (returns.tail())"
   ]
  },
  {
   "cell_type": "code",
   "execution_count": 100,
   "metadata": {},
   "outputs": [],
   "source": [
    "returns = returns.fillna(value=0)"
   ]
  },
  {
   "cell_type": "code",
   "execution_count": 101,
   "metadata": {},
   "outputs": [
    {
     "name": "stdout",
     "output_type": "stream",
     "text": [
      "AAPL    0.221508\n",
      "FB      0.275372\n",
      "GOOG    0.229194\n",
      "MSFT    0.197116\n",
      "dtype: float64\n",
      "          AAPL        FB      GOOG      MSFT\n",
      "AAPL  0.065084  0.019965  0.017746  0.019406\n",
      "FB    0.019965  0.145224  0.028975  0.019541\n",
      "GOOG  0.017746  0.028975  0.049943  0.024005\n",
      "MSFT  0.019406  0.019541  0.024005  0.052169\n"
     ]
    }
   ],
   "source": [
    "mean = returns.mean() * 252\n",
    "cov = returns.cov() * 252\n",
    "print (mean)\n",
    "print (cov)"
   ]
  },
  {
   "cell_type": "code",
   "execution_count": 102,
   "metadata": {},
   "outputs": [
    {
     "data": {
      "text/plain": [
       "array([0.06176769, 0.6279474 , 0.23644444, 0.07384048])"
      ]
     },
     "execution_count": 102,
     "metadata": {},
     "output_type": "execute_result"
    }
   ],
   "source": [
    "w = np.random.rand(q)\n",
    "w /= sum(w)\n",
    "w"
   ]
  },
  {
   "cell_type": "code",
   "execution_count": 103,
   "metadata": {},
   "outputs": [],
   "source": [
    "from functools import reduce\n",
    "r = sum(w * mean) # multiply\n",
    "s = np.sqrt(reduce(np.dot, [w, cov, w.T])) # dot multiply"
   ]
  },
  {
   "cell_type": "code",
   "execution_count": 104,
   "metadata": {},
   "outputs": [
    {
     "data": {
      "text/plain": [
       "[<matplotlib.lines.Line2D at 0x101e504240>]"
      ]
     },
     "execution_count": 104,
     "metadata": {},
     "output_type": "execute_result"
    },
    {
     "data": {
      "image/png": "[encoded data removed]",
      "text/plain": [
       "<Figure size 432x288 with 1 Axes>"
      ]
     },
     "metadata": {
      "needs_background": "light"
     },
     "output_type": "display_data"
    }
   ],
   "source": [
    "plt.plot(r, s, 'y*')"
   ]
  },
  {
   "cell_type": "markdown",
   "metadata": {},
   "source": [
    "# 第二部分：蒙地卡羅"
   ]
  },
  {
   "cell_type": "code",
   "execution_count": 105,
   "metadata": {},
   "outputs": [
    {
     "data": {
      "text/plain": [
       "[<matplotlib.lines.Line2D at 0x10178a7668>]"
      ]
     },
     "execution_count": 105,
     "metadata": {},
     "output_type": "execute_result"
    },
    {
     "data": {
      "image/png": "[encoded data removed]",
      "text/plain": [
       "<Figure size 432x288 with 1 Axes>"
      ]
     },
     "metadata": {
      "needs_background": "light"
     },
     "output_type": "display_data"
    }
   ],
   "source": [
    "sds = []\n",
    "rtn = []\n",
    "\n",
    "for _ in range(100000):\n",
    "    w = np.random.rand(q)\n",
    "    w /= sum(w)\n",
    "    rtn.append(sum(mean * w))\n",
    "    sds.append(np.sqrt(reduce(np.dot, [w, cov, w.T])))\n",
    "\n",
    "plt.plot(sds, rtn, 'ro') # ro for red dot"
   ]
  },
  {
   "cell_type": "markdown",
   "metadata": {},
   "source": [
    "# 第三部分(0)：測試"
   ]
  },
  {
   "cell_type": "code",
   "execution_count": 106,
   "metadata": {},
   "outputs": [
    {
     "name": "stdout",
     "output_type": "stream",
     "text": [
      "     fun: 0.22840623176310798\n",
      "     jac: array([0.08496278, 0.0855517 , 0.10509644, 0.22840623])\n",
      " message: 'Optimization terminated successfully.'\n",
      "    nfev: 172\n",
      "     nit: 16\n",
      "    njev: 12\n",
      "  status: 0\n",
      " success: True\n",
      "       x: array([1.08002211e-14, 3.41679553e-19, 2.66788178e-13, 1.00000000e+00])\n"
     ]
    }
   ],
   "source": [
    "def sd(w):\n",
    "    return np.sqrt(reduce(np.dot, [w, cov, w.T]))\n",
    "\n",
    "x0 = np.array([1.0 / q for x in range(q)])\n",
    "bounds = tuple((0, 1) for x in range(q))\n",
    "constraints = [{'type': 'eq', 'fun': lambda x: sum(x) - 1},\n",
    "               {'type': 'eq', 'fun': lambda x: sum(x * mean) - .18}]\n",
    "\n",
    "outcome = solver.minimize(sd, x0=x0, constraints=constraints, bounds=bounds)\n",
    "print (outcome)"
   ]
  },
  {
   "cell_type": "code",
   "execution_count": 107,
   "metadata": {},
   "outputs": [
    {
     "name": "stdout",
     "output_type": "stream",
     "text": [
      "0.19711563563814835\n"
     ]
    }
   ],
   "source": [
    "print (sum(outcome.x * mean))"
   ]
  },
  {
   "cell_type": "markdown",
   "metadata": {},
   "source": [
    "# 第三部分：標出效率前緣"
   ]
  },
  {
   "cell_type": "code",
   "execution_count": 110,
   "metadata": {},
   "outputs": [],
   "source": [
    "def sd(w):\n",
    "    return np.sqrt(reduce(np.dot, [w, cov, w.T]))\n",
    "\n",
    "x0 = np.array([1.0 / q for x in range(q)])\n",
    "bounds = tuple((0, 1) for x in range(q))\n",
    "\n",
    "given_r = np.arange(.16, .28, .005)\n",
    "risk = []\n",
    "\n",
    "for i in given_r:\n",
    "    constraints = [{'type': 'eq', 'fun': lambda x: sum(x) - 1},\n",
    "                   {'type': 'eq', 'fun': lambda x: sum(x * mean) - i}]\n",
    "    outcome = solver.minimize(sd, x0=x0, constraints=constraints, bounds=bounds)\n",
    "    risk.append(outcome.fun)"
   ]
  },
  {
   "cell_type": "code",
   "execution_count": 111,
   "metadata": {},
   "outputs": [
    {
     "data": {
      "text/plain": [
       "Text(0, 0.5, 'portfolio return')"
      ]
     },
     "execution_count": 111,
     "metadata": {},
     "output_type": "execute_result"
    },
    {
     "data": {
      "image/png": "[encoded data removed]",
      "text/plain": [
       "<Figure size 432x288 with 1 Axes>"
      ]
     },
     "metadata": {
      "needs_background": "light"
     },
     "output_type": "display_data"
    }
   ],
   "source": [
    "plt.plot(sds, rtn, 'ro')\n",
    "plt.plot(risk, given_r, 'x')\n",
    "\n",
    "constraints = {'type': 'eq', 'fun': lambda x: sum(x) - 1}\n",
    "minv = solver.minimize(sd, x0=x0, constraints=constraints, bounds=bounds).fun\n",
    "minvr = sum(solver.minimize(sd, x0=x0, constraints=constraints, bounds=bounds).x * mean)\n",
    "plt.plot(minv, minvr, 'w*') # w* for white star\n",
    "\n",
    "plt.grid(True)\n",
    "plt.title('Efficient Frontier: AAPL, FB, GOOG, MSFT')\n",
    "plt.xlabel('portfolio volatility')\n",
    "plt.ylabel('portfolio return')"
   ]
  },
  {
   "cell_type": "code",
   "execution_count": null,
   "metadata": {},
   "outputs": [],
   "source": [
    "#https://www.jianshu.com/p/306bc75a70ed"
   ]
  }
 ],
 "metadata": {
  "kernelspec": {
   "display_name": "Python 3",
   "language": "python",
   "name": "python3"
  },
  "language_info": {
   "codemirror_mode": {
    "name": "ipython",
    "version": 3
   },
   "file_extension": ".py",
   "mimetype": "text/x-python",
   "name": "python",
   "nbconvert_exporter": "python",
   "pygments_lexer": "ipython3",
   "version": "3.7.1"
  }
 },
 "nbformat": 4,
 "nbformat_minor": 2
}
