{
 "cells": [
  {
   "cell_type": "code",
   "execution_count": 1,
   "metadata": {},
   "outputs": [],
   "source": [
    "import pandas as pd\n",
    "import numpy as np\n",
    "import matplotlib.pyplot as plt"
   ]
  },
  {
   "cell_type": "code",
   "execution_count": 2,
   "metadata": {},
   "outputs": [],
   "source": [
    "S_t = 50\n",
    "Save_t = 50\n",
    "K = 40\n",
    "r = 0.3\n",
    "q = 0.1\n",
    "Sigma = 0.4\n",
    "t = 0.1\n",
    "T = 0.5\n",
    "n_crr = 100\n",
    "M = 50"
   ]
  },
  {
   "cell_type": "code",
   "execution_count": 3,
   "metadata": {},
   "outputs": [],
   "source": [
    "#預先算好這些共用參數\n",
    "delta_t = (T - t)/n_crr\n",
    "u = np.exp(Sigma * np.sqrt(delta_t))\n",
    "d = 1/u #算p比較方便，後面不會用到\n",
    "p = (np.exp((r - q) * delta_t) - d) / (u - d)"
   ]
  },
  {
   "cell_type": "code",
   "execution_count": 4,
   "metadata": {},
   "outputs": [],
   "source": [
    "def generate_panel(n):\n",
    "    #d = [[0 for i in range(100)] for j in range(100)]\n",
    "    d = np.zeros((n, n))\n",
    "    data = np.array(d, dtype=object)\n",
    "    for i in range(n):\n",
    "        for j in range(n):\n",
    "            data[i][j] = list()\n",
    "    return data\n",
    "#==================================================================================================================#\n",
    "def count_data_manage(n, df):\n",
    "    if n in df.keys():\n",
    "        df[n] += 1\n",
    "    else:\n",
    "        df[n] = 1\n",
    "#==================================================================================================================#\n",
    "def Sequential_search_count(x, list_x, list_y):\n",
    "    #start_t = time.time()\n",
    "    count = -1\n",
    "    for i in list_x:\n",
    "        if i >= x:\n",
    "            count += 1\n",
    "        else:\n",
    "            break\n",
    "    if count == -1:\n",
    "        c = list_y[0]\n",
    "    elif count == len(list_y)-1:\n",
    "        c = list_y[-1]\n",
    "    else:\n",
    "        wu = (list_x[count] - x) / (list_x[count] - list_x[count+1])\n",
    "        c = wu * list_y[count+1] + (1-wu) * list_y[count]\n",
    "    #end_t = time.time()\n",
    "    #out_time = end_t - start_t\n",
    "    return c #, count + 2, out_time #count是總共花幾次找到答案\n",
    "#==================================================================================================================#\n",
    "def Binomial_Arithmetic_call_count(M = 50, linearly = True):\n",
    "    #建立資料panel\n",
    "    panel = generate_panel(n_crr + 1)\n",
    "\n",
    "    #第一步：算出panel上每個node的Amax, Amin\n",
    "    for col in range(n_crr + 1):\n",
    "        for row in range(col + 1):\n",
    "            Amax = (Save_t * t * n_crr + S_t * ((u**(col-row) * (u**(-row)-u-1) + 1) / (1-u))) / (t * n_crr + (col+1))\n",
    "            Amin = (Save_t * t * n_crr + S_t * ((u**(-row) * (u-u**(col-row+1)+1) - u) / (1-u))) / (t * n_crr + (col+1))\n",
    "            panel[row][col].append([Amax])\n",
    "            panel[row][col].append([Amin])\n",
    "\n",
    "    #第二步：跟據M將每個node的Amax到Amin中間補上M-1個等差A(i,j,k)\n",
    "    for col in range(n_crr+1):\n",
    "        for row in range(col+1):\n",
    "            #如果Amax=Amin就不要做\n",
    "            if panel[row][col][0][0] == panel[row][col][-1][0]:\n",
    "                pass\n",
    "            else:\n",
    "                for k in range(1, M):\n",
    "                    if linearly == True:\n",
    "                        ins = ((M-k)/M) * panel[row][col][0][0] + (k/M) * panel[row][col][-1][0]\n",
    "                    else:\n",
    "                        ins = np.exp(((M-k)/M) * np.log(panel[row][col][0][0]) + (k/M) * np.log(panel[row][col][-1][0]))\n",
    "                    panel[row][col].insert(k, [ins])\n",
    "\n",
    "    #第三步：將最後一期算出payoff\n",
    "    for row in range(n_crr + 1):\n",
    "        for i in panel[row][-1]:\n",
    "            call_price = max(i[0]-K,0)\n",
    "            i.append(call_price)\n",
    "    \n",
    "    #建立用來紀錄花幾次找到答案的字典\n",
    "    count_dict = {}\n",
    "    \n",
    "    #第四步：backward induction，對每個node中每個A(i,j,k)分別計算call price\n",
    "    for col in range(n_crr - 1, -1, -1):\n",
    "        for row in range(col+1):\n",
    "            for i in range(len(panel[row][col])):\n",
    "                Au = (panel[row][col][i][0] * (t * n_crr + (col+1)) + S_t * u **(col-2*row+1)) / (t * n_crr + (col+1) + 1)\n",
    "                Ad = (panel[row][col][i][0] * (t * n_crr + (col+1)) + S_t * u **(col-2*row-1)) / (t * n_crr + (col+1) + 1)\n",
    "\n",
    "                #用歐式選擇權做代表\n",
    "                #用這個函數一定要是遞增的\n",
    "                #u_call_price = np.interp(Au, [j[0] for j in panel[row][col+1]][::-1], [j[1] for j in panel[row][col+1]][::-1])\n",
    "                #d_call_price = np.interp(Ad, [k[0] for k in panel[row+1][col+1]][::-1], [k[1] for k in panel[row+1][col+1]][::-1])\n",
    "                #自寫函式，應對本例可是遞減的\n",
    "                u_call_price = Sequential_search_count(Au, [j[0] for j in panel[row][col+1]], [j[1] for j in panel[row][col+1]])\n",
    "                d_call_price = Sequential_search_count(Ad, [k[0] for k in panel[row+1][col+1]], [k[1] for k in panel[row+1][col+1]])\n",
    "                call_price = np.exp(-r * delta_t) * (p * u_call_price + (1-p) * d_call_price)\n",
    "                panel[row][col][i].append(call_price)\n",
    "                \n",
    "                #前面都照做，到最後才區分為最上面一條＆最下面一條以及其他，若非最上或最下，每個node會有M+1個點\n",
    "                #如果是最上或最下，因為不是最大就是最小，加入會扭曲結果，所以選擇不紀錄\n",
    "#                if len(panel[row][col]) == 2:\n",
    "#                    continue\n",
    "#                #如果不是最上或最下，除了最後一個column，每個node有M+1個點，每個點會貢獻兩筆資料\n",
    "#                else:\n",
    "#                    count_data_manage(u_count+1, count_dict) #由於函式裡面是從-1開始，這邊要加1才代表真正的次數\n",
    "#                    count_data_manage(d_count+1, count_dict)\n",
    "                \n",
    "    return panel[0][0][0][-1] #, count_dict"
   ]
  },
  {
   "cell_type": "code",
   "execution_count": 5,
   "metadata": {},
   "outputs": [],
   "source": [
    "convergence = pd.DataFrame(index = range(50, 550, 50), columns = ['Linearly', 'Logarithmically'])"
   ]
  },
  {
   "cell_type": "code",
   "execution_count": 6,
   "metadata": {},
   "outputs": [
    {
     "name": "stdout",
     "output_type": "stream",
     "text": [
      "50  Linear Done\n",
      "50  Logarithmical Done\n",
      "100  Linear Done\n",
      "100  Logarithmical Done\n",
      "150  Linear Done\n",
      "150  Logarithmical Done\n",
      "200  Linear Done\n",
      "200  Logarithmical Done\n",
      "250  Linear Done\n",
      "250  Logarithmical Done\n",
      "300  Linear Done\n",
      "300  Logarithmical Done\n",
      "350  Linear Done\n",
      "350  Logarithmical Done\n",
      "400  Linear Done\n",
      "400  Logarithmical Done\n",
      "450  Linear Done\n",
      "450  Logarithmical Done\n",
      "500  Linear Done\n",
      "500  Logarithmical Done\n"
     ]
    }
   ],
   "source": [
    "for i in convergence.index:\n",
    "    eur_linear_price = Binomial_Arithmetic_call_count(i, True)\n",
    "    convergence.loc[i, \"Linearly\"] = eur_linear_price\n",
    "    print(i, \" Linear Done\")\n",
    "    eur_logarithmically_price  = Binomial_Arithmetic_call_count(i, False)\n",
    "    convergence.loc[i, \"Logarithmically\"] = eur_logarithmically_price\n",
    "    print(i, \" Logarithmical Done\")"
   ]
  },
  {
   "cell_type": "code",
   "execution_count": 7,
   "metadata": {},
   "outputs": [
    {
     "data": {
      "text/html": [
       "<div>\n",
       "<style scoped>\n",
       "    .dataframe tbody tr th:only-of-type {\n",
       "        vertical-align: middle;\n",
       "    }\n",
       "\n",
       "    .dataframe tbody tr th {\n",
       "        vertical-align: top;\n",
       "    }\n",
       "\n",
       "    .dataframe thead th {\n",
       "        text-align: right;\n",
       "    }\n",
       "</style>\n",
       "<table border=\"1\" class=\"dataframe\">\n",
       "  <thead>\n",
       "    <tr style=\"text-align: right;\">\n",
       "      <th></th>\n",
       "      <th>Linearly</th>\n",
       "      <th>Logarithmically</th>\n",
       "    </tr>\n",
       "  </thead>\n",
       "  <tbody>\n",
       "    <tr>\n",
       "      <th>50</th>\n",
       "      <td>10.5988</td>\n",
       "      <td>10.5907</td>\n",
       "    </tr>\n",
       "    <tr>\n",
       "      <th>100</th>\n",
       "      <td>10.5733</td>\n",
       "      <td>10.5713</td>\n",
       "    </tr>\n",
       "    <tr>\n",
       "      <th>150</th>\n",
       "      <td>10.5702</td>\n",
       "      <td>10.57</td>\n",
       "    </tr>\n",
       "    <tr>\n",
       "      <th>200</th>\n",
       "      <td>10.5695</td>\n",
       "      <td>10.5691</td>\n",
       "    </tr>\n",
       "    <tr>\n",
       "      <th>250</th>\n",
       "      <td>10.569</td>\n",
       "      <td>10.5688</td>\n",
       "    </tr>\n",
       "    <tr>\n",
       "      <th>300</th>\n",
       "      <td>10.5687</td>\n",
       "      <td>10.5686</td>\n",
       "    </tr>\n",
       "    <tr>\n",
       "      <th>350</th>\n",
       "      <td>10.5686</td>\n",
       "      <td>10.5685</td>\n",
       "    </tr>\n",
       "    <tr>\n",
       "      <th>400</th>\n",
       "      <td>10.5685</td>\n",
       "      <td>10.5684</td>\n",
       "    </tr>\n",
       "    <tr>\n",
       "      <th>450</th>\n",
       "      <td>10.5684</td>\n",
       "      <td>10.5684</td>\n",
       "    </tr>\n",
       "    <tr>\n",
       "      <th>500</th>\n",
       "      <td>10.5684</td>\n",
       "      <td>10.5683</td>\n",
       "    </tr>\n",
       "  </tbody>\n",
       "</table>\n",
       "</div>"
      ],
      "text/plain": [
       "    Linearly Logarithmically\n",
       "50   10.5988         10.5907\n",
       "100  10.5733         10.5713\n",
       "150  10.5702           10.57\n",
       "200  10.5695         10.5691\n",
       "250   10.569         10.5688\n",
       "300  10.5687         10.5686\n",
       "350  10.5686         10.5685\n",
       "400  10.5685         10.5684\n",
       "450  10.5684         10.5684\n",
       "500  10.5684         10.5683"
      ]
     },
     "execution_count": 7,
     "metadata": {},
     "output_type": "execute_result"
    }
   ],
   "source": [
    "convergence"
   ]
  },
  {
   "cell_type": "code",
   "execution_count": 8,
   "metadata": {},
   "outputs": [
    {
     "data": {
      "text/plain": [
       "Text(0.5, 1.0, 'Linearly vs. Logarithmically Convergence Rates')"
      ]
     },
     "execution_count": 8,
     "metadata": {},
     "output_type": "execute_result"
    },
    {
     "data": {
      "image/png": "[encoded data removed]",
      "text/plain": [
       "<Figure size 864x648 with 1 Axes>"
      ]
     },
     "metadata": {
      "needs_background": "light"
     },
     "output_type": "display_data"
    }
   ],
   "source": [
    "convergence.plot(figsize=(12,9),grid=True)\n",
    "plt.xlabel('M')\n",
    "plt.ylabel('Output Call Price')\n",
    "plt.title('Linearly vs. Logarithmically Convergence Rates', size = 18)"
   ]
  },
  {
   "cell_type": "code",
   "execution_count": null,
   "metadata": {},
   "outputs": [],
   "source": []
  }
 ],
 "metadata": {
  "kernelspec": {
   "display_name": "Python 3",
   "language": "python",
   "name": "python3"
  },
  "language_info": {
   "codemirror_mode": {
    "name": "ipython",
    "version": 3
   },
   "file_extension": ".py",
   "mimetype": "text/x-python",
   "name": "python",
   "nbconvert_exporter": "python",
   "pygments_lexer": "ipython3",
   "version": "3.7.3"
  }
 },
 "nbformat": 4,
 "nbformat_minor": 2
}
